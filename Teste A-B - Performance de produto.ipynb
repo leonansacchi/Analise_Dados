{
  "nbformat": 4,
  "nbformat_minor": 0,
  "metadata": {
    "colab": {
      "name": "Teste A/B - Projeto de melhoria",
      "provenance": [],
      "collapsed_sections": [],
      "mount_file_id": "1K9V1kLnI9viX_jHNdwdVdQ5vxnrOVGd5",
      "authorship_tag": "ABX9TyOGVNT/lbcVNjM3DD9F6PHT"
    },
    "kernelspec": {
      "name": "python3",
      "display_name": "Python 3"
    },
    "language_info": {
      "name": "python"
    }
  },
  "cells": [
    {
      "cell_type": "markdown",
      "source": [
        "#Indrodução"
      ],
      "metadata": {
        "id": "Uix93Uc_NorQ"
      }
    },
    {
      "cell_type": "markdown",
      "source": [
        "\n",
        ">### Descrição:\n",
        ">***\n",
        "Nesse dataset temos um conjunto de dados sobre quantidade de peças produzidas, boas e ruins, e as respectivas datas de produção. Os dados simulam um dos projetos de melhoria que fui responsável. Nele um produto não tinha uma performance considerada boa, ou seja, muitas peças eram descartadas por evidenciarem algum tipo de falha. \n",
        ">\n",
        ">Realizamos um projeto Six Sigma de melhoria contínua a fim de melhorar o rendimento desse produto. Após todo o planejamento, estudo e identificação da causa raiz, implementamos uma modificação em 09/01/2022 (data fictícia). Portanto nesse notebook eu **testo a hipótese de que após a implementação da melhoria tivemos uma melhora na performance do produto.**\n",
        ">\n",
        ">Estou sendo intencionalmente vago nas informações do projeto para preservar a confidencialidade dos dados e empresa.\n",
        "\n",
        "\n",
        ">### Dados:\n",
        ">***\n",
        "\n",
        "|Campo|Descrição|\n",
        "|---|---|\n",
        "|PartName|Código/Nome do produto|\n",
        "|OK|Quantidade de peças boas|\n",
        "|Scrap|Quantidade de peças descartadas|\n",
        "|Date|Data de produção das peças|\n",
        "|Performance|Porcentagem de de peças boas|"
      ],
      "metadata": {
        "id": "J4wVFFtXNqlC"
      }
    },
    {
      "cell_type": "markdown",
      "source": [
        "##Importando bibliotecas"
      ],
      "metadata": {
        "id": "GbmUgWSbMElw"
      }
    },
    {
      "cell_type": "code",
      "execution_count": null,
      "metadata": {
        "id": "SXgwHC1C_1kK"
      },
      "outputs": [],
      "source": [
        "import pandas as pd\n",
        "import seaborn as sns\n",
        "import matplotlib.pyplot as plt\n",
        "from scipy.stats import wilcoxon"
      ]
    },
    {
      "cell_type": "markdown",
      "source": [
        "##Importando dados"
      ],
      "metadata": {
        "id": "LuUGcc7FMJBf"
      }
    },
    {
      "cell_type": "code",
      "source": [
        "dados = pd.read_excel('drive/MyDrive/Colab Notebooks/Dados_melhoria.xlsx')"
      ],
      "metadata": {
        "id": "Sadih388BIs9"
      },
      "execution_count": null,
      "outputs": []
    },
    {
      "cell_type": "markdown",
      "source": [
        "##Visualizando os dados"
      ],
      "metadata": {
        "id": "9ggkj2TmMLsu"
      }
    },
    {
      "cell_type": "code",
      "source": [
        "dados.head()"
      ],
      "metadata": {
        "colab": {
          "base_uri": "https://localhost:8080/",
          "height": 206
        },
        "id": "ZYKgbd1CBRxi",
        "outputId": "4fcc0944-a8c6-42ca-d364-969134e1bb5f"
      },
      "execution_count": null,
      "outputs": [
        {
          "output_type": "execute_result",
          "data": {
            "text/html": [
              "\n",
              "  <div id=\"df-c85ef7cb-7b18-4745-a993-7c6137d54b99\">\n",
              "    <div class=\"colab-df-container\">\n",
              "      <div>\n",
              "<style scoped>\n",
              "    .dataframe tbody tr th:only-of-type {\n",
              "        vertical-align: middle;\n",
              "    }\n",
              "\n",
              "    .dataframe tbody tr th {\n",
              "        vertical-align: top;\n",
              "    }\n",
              "\n",
              "    .dataframe thead th {\n",
              "        text-align: right;\n",
              "    }\n",
              "</style>\n",
              "<table border=\"1\" class=\"dataframe\">\n",
              "  <thead>\n",
              "    <tr style=\"text-align: right;\">\n",
              "      <th></th>\n",
              "      <th>PartName</th>\n",
              "      <th>OK</th>\n",
              "      <th>Scrap</th>\n",
              "      <th>Date</th>\n",
              "    </tr>\n",
              "  </thead>\n",
              "  <tbody>\n",
              "    <tr>\n",
              "      <th>0</th>\n",
              "      <td>Produto A</td>\n",
              "      <td>256</td>\n",
              "      <td>10</td>\n",
              "      <td>2021-11-24</td>\n",
              "    </tr>\n",
              "    <tr>\n",
              "      <th>1</th>\n",
              "      <td>Produto A</td>\n",
              "      <td>24</td>\n",
              "      <td>15</td>\n",
              "      <td>2021-11-24</td>\n",
              "    </tr>\n",
              "    <tr>\n",
              "      <th>2</th>\n",
              "      <td>Produto A</td>\n",
              "      <td>24</td>\n",
              "      <td>15</td>\n",
              "      <td>2021-11-24</td>\n",
              "    </tr>\n",
              "    <tr>\n",
              "      <th>3</th>\n",
              "      <td>Produto A</td>\n",
              "      <td>256</td>\n",
              "      <td>10</td>\n",
              "      <td>2021-11-24</td>\n",
              "    </tr>\n",
              "    <tr>\n",
              "      <th>4</th>\n",
              "      <td>Produto A</td>\n",
              "      <td>68</td>\n",
              "      <td>19</td>\n",
              "      <td>2021-11-27</td>\n",
              "    </tr>\n",
              "  </tbody>\n",
              "</table>\n",
              "</div>\n",
              "      <button class=\"colab-df-convert\" onclick=\"convertToInteractive('df-c85ef7cb-7b18-4745-a993-7c6137d54b99')\"\n",
              "              title=\"Convert this dataframe to an interactive table.\"\n",
              "              style=\"display:none;\">\n",
              "        \n",
              "  <svg xmlns=\"http://www.w3.org/2000/svg\" height=\"24px\"viewBox=\"0 0 24 24\"\n",
              "       width=\"24px\">\n",
              "    <path d=\"M0 0h24v24H0V0z\" fill=\"none\"/>\n",
              "    <path d=\"M18.56 5.44l.94 2.06.94-2.06 2.06-.94-2.06-.94-.94-2.06-.94 2.06-2.06.94zm-11 1L8.5 8.5l.94-2.06 2.06-.94-2.06-.94L8.5 2.5l-.94 2.06-2.06.94zm10 10l.94 2.06.94-2.06 2.06-.94-2.06-.94-.94-2.06-.94 2.06-2.06.94z\"/><path d=\"M17.41 7.96l-1.37-1.37c-.4-.4-.92-.59-1.43-.59-.52 0-1.04.2-1.43.59L10.3 9.45l-7.72 7.72c-.78.78-.78 2.05 0 2.83L4 21.41c.39.39.9.59 1.41.59.51 0 1.02-.2 1.41-.59l7.78-7.78 2.81-2.81c.8-.78.8-2.07 0-2.86zM5.41 20L4 18.59l7.72-7.72 1.47 1.35L5.41 20z\"/>\n",
              "  </svg>\n",
              "      </button>\n",
              "      \n",
              "  <style>\n",
              "    .colab-df-container {\n",
              "      display:flex;\n",
              "      flex-wrap:wrap;\n",
              "      gap: 12px;\n",
              "    }\n",
              "\n",
              "    .colab-df-convert {\n",
              "      background-color: #E8F0FE;\n",
              "      border: none;\n",
              "      border-radius: 50%;\n",
              "      cursor: pointer;\n",
              "      display: none;\n",
              "      fill: #1967D2;\n",
              "      height: 32px;\n",
              "      padding: 0 0 0 0;\n",
              "      width: 32px;\n",
              "    }\n",
              "\n",
              "    .colab-df-convert:hover {\n",
              "      background-color: #E2EBFA;\n",
              "      box-shadow: 0px 1px 2px rgba(60, 64, 67, 0.3), 0px 1px 3px 1px rgba(60, 64, 67, 0.15);\n",
              "      fill: #174EA6;\n",
              "    }\n",
              "\n",
              "    [theme=dark] .colab-df-convert {\n",
              "      background-color: #3B4455;\n",
              "      fill: #D2E3FC;\n",
              "    }\n",
              "\n",
              "    [theme=dark] .colab-df-convert:hover {\n",
              "      background-color: #434B5C;\n",
              "      box-shadow: 0px 1px 3px 1px rgba(0, 0, 0, 0.15);\n",
              "      filter: drop-shadow(0px 1px 2px rgba(0, 0, 0, 0.3));\n",
              "      fill: #FFFFFF;\n",
              "    }\n",
              "  </style>\n",
              "\n",
              "      <script>\n",
              "        const buttonEl =\n",
              "          document.querySelector('#df-c85ef7cb-7b18-4745-a993-7c6137d54b99 button.colab-df-convert');\n",
              "        buttonEl.style.display =\n",
              "          google.colab.kernel.accessAllowed ? 'block' : 'none';\n",
              "\n",
              "        async function convertToInteractive(key) {\n",
              "          const element = document.querySelector('#df-c85ef7cb-7b18-4745-a993-7c6137d54b99');\n",
              "          const dataTable =\n",
              "            await google.colab.kernel.invokeFunction('convertToInteractive',\n",
              "                                                     [key], {});\n",
              "          if (!dataTable) return;\n",
              "\n",
              "          const docLinkHtml = 'Like what you see? Visit the ' +\n",
              "            '<a target=\"_blank\" href=https://colab.research.google.com/notebooks/data_table.ipynb>data table notebook</a>'\n",
              "            + ' to learn more about interactive tables.';\n",
              "          element.innerHTML = '';\n",
              "          dataTable['output_type'] = 'display_data';\n",
              "          await google.colab.output.renderOutput(dataTable, element);\n",
              "          const docLink = document.createElement('div');\n",
              "          docLink.innerHTML = docLinkHtml;\n",
              "          element.appendChild(docLink);\n",
              "        }\n",
              "      </script>\n",
              "    </div>\n",
              "  </div>\n",
              "  "
            ],
            "text/plain": [
              "    PartName   OK  Scrap       Date\n",
              "0  Produto A  256     10 2021-11-24\n",
              "1  Produto A   24     15 2021-11-24\n",
              "2  Produto A   24     15 2021-11-24\n",
              "3  Produto A  256     10 2021-11-24\n",
              "4  Produto A   68     19 2021-11-27"
            ]
          },
          "metadata": {},
          "execution_count": 25
        }
      ]
    },
    {
      "cell_type": "markdown",
      "source": [
        "###Informações e estatísticas descritivas"
      ],
      "metadata": {
        "id": "daa_icqlMN-W"
      }
    },
    {
      "cell_type": "code",
      "source": [
        "dados.info()"
      ],
      "metadata": {
        "colab": {
          "base_uri": "https://localhost:8080/"
        },
        "id": "u9jTelbcDgst",
        "outputId": "fb250882-951b-45b5-a3a4-ec001a971a20"
      },
      "execution_count": null,
      "outputs": [
        {
          "output_type": "stream",
          "name": "stdout",
          "text": [
            "<class 'pandas.core.frame.DataFrame'>\n",
            "RangeIndex: 89 entries, 0 to 88\n",
            "Data columns (total 4 columns):\n",
            " #   Column    Non-Null Count  Dtype         \n",
            "---  ------    --------------  -----         \n",
            " 0   PartName  89 non-null     object        \n",
            " 1   OK        89 non-null     int64         \n",
            " 2   Scrap     89 non-null     int64         \n",
            " 3   Date      89 non-null     datetime64[ns]\n",
            "dtypes: datetime64[ns](1), int64(2), object(1)\n",
            "memory usage: 2.9+ KB\n"
          ]
        }
      ]
    },
    {
      "cell_type": "code",
      "source": [
        "dados.shape"
      ],
      "metadata": {
        "colab": {
          "base_uri": "https://localhost:8080/"
        },
        "id": "aP-X_sFABriC",
        "outputId": "b98e19e3-6776-48a3-bbc4-187eafb8c3a7"
      },
      "execution_count": null,
      "outputs": [
        {
          "output_type": "execute_result",
          "data": {
            "text/plain": [
              "(89, 4)"
            ]
          },
          "metadata": {},
          "execution_count": 27
        }
      ]
    },
    {
      "cell_type": "code",
      "source": [
        "dados.describe()"
      ],
      "metadata": {
        "colab": {
          "base_uri": "https://localhost:8080/",
          "height": 300
        },
        "id": "QFg4Fi9CBxgx",
        "outputId": "8f7b0b6e-8f8a-4f73-c647-112050c21d55"
      },
      "execution_count": null,
      "outputs": [
        {
          "output_type": "execute_result",
          "data": {
            "text/html": [
              "\n",
              "  <div id=\"df-640b9628-f3b1-4199-9e14-73f99c6adcb2\">\n",
              "    <div class=\"colab-df-container\">\n",
              "      <div>\n",
              "<style scoped>\n",
              "    .dataframe tbody tr th:only-of-type {\n",
              "        vertical-align: middle;\n",
              "    }\n",
              "\n",
              "    .dataframe tbody tr th {\n",
              "        vertical-align: top;\n",
              "    }\n",
              "\n",
              "    .dataframe thead th {\n",
              "        text-align: right;\n",
              "    }\n",
              "</style>\n",
              "<table border=\"1\" class=\"dataframe\">\n",
              "  <thead>\n",
              "    <tr style=\"text-align: right;\">\n",
              "      <th></th>\n",
              "      <th>OK</th>\n",
              "      <th>Scrap</th>\n",
              "    </tr>\n",
              "  </thead>\n",
              "  <tbody>\n",
              "    <tr>\n",
              "      <th>count</th>\n",
              "      <td>89.000000</td>\n",
              "      <td>89.000000</td>\n",
              "    </tr>\n",
              "    <tr>\n",
              "      <th>mean</th>\n",
              "      <td>176.258427</td>\n",
              "      <td>16.932584</td>\n",
              "    </tr>\n",
              "    <tr>\n",
              "      <th>std</th>\n",
              "      <td>115.406449</td>\n",
              "      <td>16.965070</td>\n",
              "    </tr>\n",
              "    <tr>\n",
              "      <th>min</th>\n",
              "      <td>2.000000</td>\n",
              "      <td>0.000000</td>\n",
              "    </tr>\n",
              "    <tr>\n",
              "      <th>25%</th>\n",
              "      <td>69.000000</td>\n",
              "      <td>8.000000</td>\n",
              "    </tr>\n",
              "    <tr>\n",
              "      <th>50%</th>\n",
              "      <td>194.000000</td>\n",
              "      <td>14.000000</td>\n",
              "    </tr>\n",
              "    <tr>\n",
              "      <th>75%</th>\n",
              "      <td>271.000000</td>\n",
              "      <td>21.000000</td>\n",
              "    </tr>\n",
              "    <tr>\n",
              "      <th>max</th>\n",
              "      <td>370.000000</td>\n",
              "      <td>122.000000</td>\n",
              "    </tr>\n",
              "  </tbody>\n",
              "</table>\n",
              "</div>\n",
              "      <button class=\"colab-df-convert\" onclick=\"convertToInteractive('df-640b9628-f3b1-4199-9e14-73f99c6adcb2')\"\n",
              "              title=\"Convert this dataframe to an interactive table.\"\n",
              "              style=\"display:none;\">\n",
              "        \n",
              "  <svg xmlns=\"http://www.w3.org/2000/svg\" height=\"24px\"viewBox=\"0 0 24 24\"\n",
              "       width=\"24px\">\n",
              "    <path d=\"M0 0h24v24H0V0z\" fill=\"none\"/>\n",
              "    <path d=\"M18.56 5.44l.94 2.06.94-2.06 2.06-.94-2.06-.94-.94-2.06-.94 2.06-2.06.94zm-11 1L8.5 8.5l.94-2.06 2.06-.94-2.06-.94L8.5 2.5l-.94 2.06-2.06.94zm10 10l.94 2.06.94-2.06 2.06-.94-2.06-.94-.94-2.06-.94 2.06-2.06.94z\"/><path d=\"M17.41 7.96l-1.37-1.37c-.4-.4-.92-.59-1.43-.59-.52 0-1.04.2-1.43.59L10.3 9.45l-7.72 7.72c-.78.78-.78 2.05 0 2.83L4 21.41c.39.39.9.59 1.41.59.51 0 1.02-.2 1.41-.59l7.78-7.78 2.81-2.81c.8-.78.8-2.07 0-2.86zM5.41 20L4 18.59l7.72-7.72 1.47 1.35L5.41 20z\"/>\n",
              "  </svg>\n",
              "      </button>\n",
              "      \n",
              "  <style>\n",
              "    .colab-df-container {\n",
              "      display:flex;\n",
              "      flex-wrap:wrap;\n",
              "      gap: 12px;\n",
              "    }\n",
              "\n",
              "    .colab-df-convert {\n",
              "      background-color: #E8F0FE;\n",
              "      border: none;\n",
              "      border-radius: 50%;\n",
              "      cursor: pointer;\n",
              "      display: none;\n",
              "      fill: #1967D2;\n",
              "      height: 32px;\n",
              "      padding: 0 0 0 0;\n",
              "      width: 32px;\n",
              "    }\n",
              "\n",
              "    .colab-df-convert:hover {\n",
              "      background-color: #E2EBFA;\n",
              "      box-shadow: 0px 1px 2px rgba(60, 64, 67, 0.3), 0px 1px 3px 1px rgba(60, 64, 67, 0.15);\n",
              "      fill: #174EA6;\n",
              "    }\n",
              "\n",
              "    [theme=dark] .colab-df-convert {\n",
              "      background-color: #3B4455;\n",
              "      fill: #D2E3FC;\n",
              "    }\n",
              "\n",
              "    [theme=dark] .colab-df-convert:hover {\n",
              "      background-color: #434B5C;\n",
              "      box-shadow: 0px 1px 3px 1px rgba(0, 0, 0, 0.15);\n",
              "      filter: drop-shadow(0px 1px 2px rgba(0, 0, 0, 0.3));\n",
              "      fill: #FFFFFF;\n",
              "    }\n",
              "  </style>\n",
              "\n",
              "      <script>\n",
              "        const buttonEl =\n",
              "          document.querySelector('#df-640b9628-f3b1-4199-9e14-73f99c6adcb2 button.colab-df-convert');\n",
              "        buttonEl.style.display =\n",
              "          google.colab.kernel.accessAllowed ? 'block' : 'none';\n",
              "\n",
              "        async function convertToInteractive(key) {\n",
              "          const element = document.querySelector('#df-640b9628-f3b1-4199-9e14-73f99c6adcb2');\n",
              "          const dataTable =\n",
              "            await google.colab.kernel.invokeFunction('convertToInteractive',\n",
              "                                                     [key], {});\n",
              "          if (!dataTable) return;\n",
              "\n",
              "          const docLinkHtml = 'Like what you see? Visit the ' +\n",
              "            '<a target=\"_blank\" href=https://colab.research.google.com/notebooks/data_table.ipynb>data table notebook</a>'\n",
              "            + ' to learn more about interactive tables.';\n",
              "          element.innerHTML = '';\n",
              "          dataTable['output_type'] = 'display_data';\n",
              "          await google.colab.output.renderOutput(dataTable, element);\n",
              "          const docLink = document.createElement('div');\n",
              "          docLink.innerHTML = docLinkHtml;\n",
              "          element.appendChild(docLink);\n",
              "        }\n",
              "      </script>\n",
              "    </div>\n",
              "  </div>\n",
              "  "
            ],
            "text/plain": [
              "               OK       Scrap\n",
              "count   89.000000   89.000000\n",
              "mean   176.258427   16.932584\n",
              "std    115.406449   16.965070\n",
              "min      2.000000    0.000000\n",
              "25%     69.000000    8.000000\n",
              "50%    194.000000   14.000000\n",
              "75%    271.000000   21.000000\n",
              "max    370.000000  122.000000"
            ]
          },
          "metadata": {},
          "execution_count": 28
        }
      ]
    },
    {
      "cell_type": "markdown",
      "source": [
        "Primeiramente percebemos que não há dados nulos no nosso dataset, temos ao todo 89 produções do Produto A, e através do resumo estatístico não visualizamos nenhum valor discrepante."
      ],
      "metadata": {
        "id": "3MmAcOQg3vef"
      }
    },
    {
      "cell_type": "markdown",
      "source": [
        "##Agrupando os dados por data"
      ],
      "metadata": {
        "id": "pIJnCqIVMWsu"
      }
    },
    {
      "cell_type": "markdown",
      "source": [
        "Vamos então unir as produções que ocorreram no mesmo dia, somando as peças boas e refugos do mesmo lote de produção."
      ],
      "metadata": {
        "id": "z5c7HQt04he-"
      }
    },
    {
      "cell_type": "code",
      "source": [
        "dados = dados.groupby('Date').sum()"
      ],
      "metadata": {
        "id": "Xp_bXEnyB9Zx"
      },
      "execution_count": null,
      "outputs": []
    },
    {
      "cell_type": "code",
      "source": [
        "dados = dados.reset_index()"
      ],
      "metadata": {
        "id": "iThOzTgjCGnD"
      },
      "execution_count": null,
      "outputs": []
    },
    {
      "cell_type": "code",
      "source": [
        "dados.head()"
      ],
      "metadata": {
        "colab": {
          "base_uri": "https://localhost:8080/",
          "height": 206
        },
        "id": "8AFdj-ibMu1V",
        "outputId": "1602486b-8901-4925-aad6-a9baf0f07c73"
      },
      "execution_count": null,
      "outputs": [
        {
          "output_type": "execute_result",
          "data": {
            "text/html": [
              "\n",
              "  <div id=\"df-70cb0970-f302-4110-89cd-94d29d47719b\">\n",
              "    <div class=\"colab-df-container\">\n",
              "      <div>\n",
              "<style scoped>\n",
              "    .dataframe tbody tr th:only-of-type {\n",
              "        vertical-align: middle;\n",
              "    }\n",
              "\n",
              "    .dataframe tbody tr th {\n",
              "        vertical-align: top;\n",
              "    }\n",
              "\n",
              "    .dataframe thead th {\n",
              "        text-align: right;\n",
              "    }\n",
              "</style>\n",
              "<table border=\"1\" class=\"dataframe\">\n",
              "  <thead>\n",
              "    <tr style=\"text-align: right;\">\n",
              "      <th></th>\n",
              "      <th>Date</th>\n",
              "      <th>OK</th>\n",
              "      <th>Scrap</th>\n",
              "    </tr>\n",
              "  </thead>\n",
              "  <tbody>\n",
              "    <tr>\n",
              "      <th>0</th>\n",
              "      <td>2021-11-24</td>\n",
              "      <td>560</td>\n",
              "      <td>50</td>\n",
              "    </tr>\n",
              "    <tr>\n",
              "      <th>1</th>\n",
              "      <td>2021-11-27</td>\n",
              "      <td>530</td>\n",
              "      <td>60</td>\n",
              "    </tr>\n",
              "    <tr>\n",
              "      <th>2</th>\n",
              "      <td>2021-12-01</td>\n",
              "      <td>436</td>\n",
              "      <td>70</td>\n",
              "    </tr>\n",
              "    <tr>\n",
              "      <th>3</th>\n",
              "      <td>2021-12-03</td>\n",
              "      <td>576</td>\n",
              "      <td>59</td>\n",
              "    </tr>\n",
              "    <tr>\n",
              "      <th>4</th>\n",
              "      <td>2021-12-05</td>\n",
              "      <td>388</td>\n",
              "      <td>30</td>\n",
              "    </tr>\n",
              "  </tbody>\n",
              "</table>\n",
              "</div>\n",
              "      <button class=\"colab-df-convert\" onclick=\"convertToInteractive('df-70cb0970-f302-4110-89cd-94d29d47719b')\"\n",
              "              title=\"Convert this dataframe to an interactive table.\"\n",
              "              style=\"display:none;\">\n",
              "        \n",
              "  <svg xmlns=\"http://www.w3.org/2000/svg\" height=\"24px\"viewBox=\"0 0 24 24\"\n",
              "       width=\"24px\">\n",
              "    <path d=\"M0 0h24v24H0V0z\" fill=\"none\"/>\n",
              "    <path d=\"M18.56 5.44l.94 2.06.94-2.06 2.06-.94-2.06-.94-.94-2.06-.94 2.06-2.06.94zm-11 1L8.5 8.5l.94-2.06 2.06-.94-2.06-.94L8.5 2.5l-.94 2.06-2.06.94zm10 10l.94 2.06.94-2.06 2.06-.94-2.06-.94-.94-2.06-.94 2.06-2.06.94z\"/><path d=\"M17.41 7.96l-1.37-1.37c-.4-.4-.92-.59-1.43-.59-.52 0-1.04.2-1.43.59L10.3 9.45l-7.72 7.72c-.78.78-.78 2.05 0 2.83L4 21.41c.39.39.9.59 1.41.59.51 0 1.02-.2 1.41-.59l7.78-7.78 2.81-2.81c.8-.78.8-2.07 0-2.86zM5.41 20L4 18.59l7.72-7.72 1.47 1.35L5.41 20z\"/>\n",
              "  </svg>\n",
              "      </button>\n",
              "      \n",
              "  <style>\n",
              "    .colab-df-container {\n",
              "      display:flex;\n",
              "      flex-wrap:wrap;\n",
              "      gap: 12px;\n",
              "    }\n",
              "\n",
              "    .colab-df-convert {\n",
              "      background-color: #E8F0FE;\n",
              "      border: none;\n",
              "      border-radius: 50%;\n",
              "      cursor: pointer;\n",
              "      display: none;\n",
              "      fill: #1967D2;\n",
              "      height: 32px;\n",
              "      padding: 0 0 0 0;\n",
              "      width: 32px;\n",
              "    }\n",
              "\n",
              "    .colab-df-convert:hover {\n",
              "      background-color: #E2EBFA;\n",
              "      box-shadow: 0px 1px 2px rgba(60, 64, 67, 0.3), 0px 1px 3px 1px rgba(60, 64, 67, 0.15);\n",
              "      fill: #174EA6;\n",
              "    }\n",
              "\n",
              "    [theme=dark] .colab-df-convert {\n",
              "      background-color: #3B4455;\n",
              "      fill: #D2E3FC;\n",
              "    }\n",
              "\n",
              "    [theme=dark] .colab-df-convert:hover {\n",
              "      background-color: #434B5C;\n",
              "      box-shadow: 0px 1px 3px 1px rgba(0, 0, 0, 0.15);\n",
              "      filter: drop-shadow(0px 1px 2px rgba(0, 0, 0, 0.3));\n",
              "      fill: #FFFFFF;\n",
              "    }\n",
              "  </style>\n",
              "\n",
              "      <script>\n",
              "        const buttonEl =\n",
              "          document.querySelector('#df-70cb0970-f302-4110-89cd-94d29d47719b button.colab-df-convert');\n",
              "        buttonEl.style.display =\n",
              "          google.colab.kernel.accessAllowed ? 'block' : 'none';\n",
              "\n",
              "        async function convertToInteractive(key) {\n",
              "          const element = document.querySelector('#df-70cb0970-f302-4110-89cd-94d29d47719b');\n",
              "          const dataTable =\n",
              "            await google.colab.kernel.invokeFunction('convertToInteractive',\n",
              "                                                     [key], {});\n",
              "          if (!dataTable) return;\n",
              "\n",
              "          const docLinkHtml = 'Like what you see? Visit the ' +\n",
              "            '<a target=\"_blank\" href=https://colab.research.google.com/notebooks/data_table.ipynb>data table notebook</a>'\n",
              "            + ' to learn more about interactive tables.';\n",
              "          element.innerHTML = '';\n",
              "          dataTable['output_type'] = 'display_data';\n",
              "          await google.colab.output.renderOutput(dataTable, element);\n",
              "          const docLink = document.createElement('div');\n",
              "          docLink.innerHTML = docLinkHtml;\n",
              "          element.appendChild(docLink);\n",
              "        }\n",
              "      </script>\n",
              "    </div>\n",
              "  </div>\n",
              "  "
            ],
            "text/plain": [
              "        Date   OK  Scrap\n",
              "0 2021-11-24  560     50\n",
              "1 2021-11-27  530     60\n",
              "2 2021-12-01  436     70\n",
              "3 2021-12-03  576     59\n",
              "4 2021-12-05  388     30"
            ]
          },
          "metadata": {},
          "execution_count": 31
        }
      ]
    },
    {
      "cell_type": "markdown",
      "source": [
        "##Criando coluna de Performance"
      ],
      "metadata": {
        "id": "XuVsLIOMMx7D"
      }
    },
    {
      "cell_type": "markdown",
      "source": [
        "Criaremos agora uma coluna que mostrará a porcentagem de peças boas de cada produção."
      ],
      "metadata": {
        "id": "uIo-yMMa4wIi"
      }
    },
    {
      "cell_type": "code",
      "source": [
        "dados['Performance'] = ((1 - (dados['Scrap'] / (dados['OK'] + dados['Scrap']))) *100).round(2)"
      ],
      "metadata": {
        "id": "-OHkSEkrGDut"
      },
      "execution_count": null,
      "outputs": []
    },
    {
      "cell_type": "code",
      "source": [
        "dados.head()"
      ],
      "metadata": {
        "colab": {
          "base_uri": "https://localhost:8080/",
          "height": 206
        },
        "id": "GMyOIaPtDThr",
        "outputId": "383b8259-0701-4c69-be14-231616a096a2"
      },
      "execution_count": null,
      "outputs": [
        {
          "output_type": "execute_result",
          "data": {
            "text/html": [
              "\n",
              "  <div id=\"df-3f72cf37-359c-4040-98ea-23bad756ef8d\">\n",
              "    <div class=\"colab-df-container\">\n",
              "      <div>\n",
              "<style scoped>\n",
              "    .dataframe tbody tr th:only-of-type {\n",
              "        vertical-align: middle;\n",
              "    }\n",
              "\n",
              "    .dataframe tbody tr th {\n",
              "        vertical-align: top;\n",
              "    }\n",
              "\n",
              "    .dataframe thead th {\n",
              "        text-align: right;\n",
              "    }\n",
              "</style>\n",
              "<table border=\"1\" class=\"dataframe\">\n",
              "  <thead>\n",
              "    <tr style=\"text-align: right;\">\n",
              "      <th></th>\n",
              "      <th>Date</th>\n",
              "      <th>OK</th>\n",
              "      <th>Scrap</th>\n",
              "      <th>Performance</th>\n",
              "    </tr>\n",
              "  </thead>\n",
              "  <tbody>\n",
              "    <tr>\n",
              "      <th>0</th>\n",
              "      <td>2021-11-24</td>\n",
              "      <td>560</td>\n",
              "      <td>50</td>\n",
              "      <td>91.80</td>\n",
              "    </tr>\n",
              "    <tr>\n",
              "      <th>1</th>\n",
              "      <td>2021-11-27</td>\n",
              "      <td>530</td>\n",
              "      <td>60</td>\n",
              "      <td>89.83</td>\n",
              "    </tr>\n",
              "    <tr>\n",
              "      <th>2</th>\n",
              "      <td>2021-12-01</td>\n",
              "      <td>436</td>\n",
              "      <td>70</td>\n",
              "      <td>86.17</td>\n",
              "    </tr>\n",
              "    <tr>\n",
              "      <th>3</th>\n",
              "      <td>2021-12-03</td>\n",
              "      <td>576</td>\n",
              "      <td>59</td>\n",
              "      <td>90.71</td>\n",
              "    </tr>\n",
              "    <tr>\n",
              "      <th>4</th>\n",
              "      <td>2021-12-05</td>\n",
              "      <td>388</td>\n",
              "      <td>30</td>\n",
              "      <td>92.82</td>\n",
              "    </tr>\n",
              "  </tbody>\n",
              "</table>\n",
              "</div>\n",
              "      <button class=\"colab-df-convert\" onclick=\"convertToInteractive('df-3f72cf37-359c-4040-98ea-23bad756ef8d')\"\n",
              "              title=\"Convert this dataframe to an interactive table.\"\n",
              "              style=\"display:none;\">\n",
              "        \n",
              "  <svg xmlns=\"http://www.w3.org/2000/svg\" height=\"24px\"viewBox=\"0 0 24 24\"\n",
              "       width=\"24px\">\n",
              "    <path d=\"M0 0h24v24H0V0z\" fill=\"none\"/>\n",
              "    <path d=\"M18.56 5.44l.94 2.06.94-2.06 2.06-.94-2.06-.94-.94-2.06-.94 2.06-2.06.94zm-11 1L8.5 8.5l.94-2.06 2.06-.94-2.06-.94L8.5 2.5l-.94 2.06-2.06.94zm10 10l.94 2.06.94-2.06 2.06-.94-2.06-.94-.94-2.06-.94 2.06-2.06.94z\"/><path d=\"M17.41 7.96l-1.37-1.37c-.4-.4-.92-.59-1.43-.59-.52 0-1.04.2-1.43.59L10.3 9.45l-7.72 7.72c-.78.78-.78 2.05 0 2.83L4 21.41c.39.39.9.59 1.41.59.51 0 1.02-.2 1.41-.59l7.78-7.78 2.81-2.81c.8-.78.8-2.07 0-2.86zM5.41 20L4 18.59l7.72-7.72 1.47 1.35L5.41 20z\"/>\n",
              "  </svg>\n",
              "      </button>\n",
              "      \n",
              "  <style>\n",
              "    .colab-df-container {\n",
              "      display:flex;\n",
              "      flex-wrap:wrap;\n",
              "      gap: 12px;\n",
              "    }\n",
              "\n",
              "    .colab-df-convert {\n",
              "      background-color: #E8F0FE;\n",
              "      border: none;\n",
              "      border-radius: 50%;\n",
              "      cursor: pointer;\n",
              "      display: none;\n",
              "      fill: #1967D2;\n",
              "      height: 32px;\n",
              "      padding: 0 0 0 0;\n",
              "      width: 32px;\n",
              "    }\n",
              "\n",
              "    .colab-df-convert:hover {\n",
              "      background-color: #E2EBFA;\n",
              "      box-shadow: 0px 1px 2px rgba(60, 64, 67, 0.3), 0px 1px 3px 1px rgba(60, 64, 67, 0.15);\n",
              "      fill: #174EA6;\n",
              "    }\n",
              "\n",
              "    [theme=dark] .colab-df-convert {\n",
              "      background-color: #3B4455;\n",
              "      fill: #D2E3FC;\n",
              "    }\n",
              "\n",
              "    [theme=dark] .colab-df-convert:hover {\n",
              "      background-color: #434B5C;\n",
              "      box-shadow: 0px 1px 3px 1px rgba(0, 0, 0, 0.15);\n",
              "      filter: drop-shadow(0px 1px 2px rgba(0, 0, 0, 0.3));\n",
              "      fill: #FFFFFF;\n",
              "    }\n",
              "  </style>\n",
              "\n",
              "      <script>\n",
              "        const buttonEl =\n",
              "          document.querySelector('#df-3f72cf37-359c-4040-98ea-23bad756ef8d button.colab-df-convert');\n",
              "        buttonEl.style.display =\n",
              "          google.colab.kernel.accessAllowed ? 'block' : 'none';\n",
              "\n",
              "        async function convertToInteractive(key) {\n",
              "          const element = document.querySelector('#df-3f72cf37-359c-4040-98ea-23bad756ef8d');\n",
              "          const dataTable =\n",
              "            await google.colab.kernel.invokeFunction('convertToInteractive',\n",
              "                                                     [key], {});\n",
              "          if (!dataTable) return;\n",
              "\n",
              "          const docLinkHtml = 'Like what you see? Visit the ' +\n",
              "            '<a target=\"_blank\" href=https://colab.research.google.com/notebooks/data_table.ipynb>data table notebook</a>'\n",
              "            + ' to learn more about interactive tables.';\n",
              "          element.innerHTML = '';\n",
              "          dataTable['output_type'] = 'display_data';\n",
              "          await google.colab.output.renderOutput(dataTable, element);\n",
              "          const docLink = document.createElement('div');\n",
              "          docLink.innerHTML = docLinkHtml;\n",
              "          element.appendChild(docLink);\n",
              "        }\n",
              "      </script>\n",
              "    </div>\n",
              "  </div>\n",
              "  "
            ],
            "text/plain": [
              "        Date   OK  Scrap  Performance\n",
              "0 2021-11-24  560     50        91.80\n",
              "1 2021-11-27  530     60        89.83\n",
              "2 2021-12-01  436     70        86.17\n",
              "3 2021-12-03  576     59        90.71\n",
              "4 2021-12-05  388     30        92.82"
            ]
          },
          "metadata": {},
          "execution_count": 33
        }
      ]
    },
    {
      "cell_type": "markdown",
      "source": [
        "##Separando os dados"
      ],
      "metadata": {
        "id": "tQd9vcpBM3Gj"
      }
    },
    {
      "cell_type": "markdown",
      "source": [
        "Para compararmos nossos dados, vamos separar o dataset em dados antes e depois da modificação, tendo como data de corte o dia 09/01/2022."
      ],
      "metadata": {
        "id": "rWd4rr1m47Wz"
      }
    },
    {
      "cell_type": "markdown",
      "source": [
        "###Antes da modificação"
      ],
      "metadata": {
        "id": "jXzlBE4qM7Rz"
      }
    },
    {
      "cell_type": "code",
      "source": [
        "antes = (dados['Date'] <= '2022-01-09')\n",
        "dados_antes = dados.loc[antes]\n",
        "dados_antes"
      ],
      "metadata": {
        "colab": {
          "base_uri": "https://localhost:8080/",
          "height": 582
        },
        "id": "gr64OvSqEQWX",
        "outputId": "456b6f49-8875-43d0-e4e8-f6d2693908c9"
      },
      "execution_count": null,
      "outputs": [
        {
          "output_type": "execute_result",
          "data": {
            "text/html": [
              "\n",
              "  <div id=\"df-653f2faa-178d-499e-9c34-da739b4124c1\">\n",
              "    <div class=\"colab-df-container\">\n",
              "      <div>\n",
              "<style scoped>\n",
              "    .dataframe tbody tr th:only-of-type {\n",
              "        vertical-align: middle;\n",
              "    }\n",
              "\n",
              "    .dataframe tbody tr th {\n",
              "        vertical-align: top;\n",
              "    }\n",
              "\n",
              "    .dataframe thead th {\n",
              "        text-align: right;\n",
              "    }\n",
              "</style>\n",
              "<table border=\"1\" class=\"dataframe\">\n",
              "  <thead>\n",
              "    <tr style=\"text-align: right;\">\n",
              "      <th></th>\n",
              "      <th>Date</th>\n",
              "      <th>OK</th>\n",
              "      <th>Scrap</th>\n",
              "      <th>Performance</th>\n",
              "    </tr>\n",
              "  </thead>\n",
              "  <tbody>\n",
              "    <tr>\n",
              "      <th>0</th>\n",
              "      <td>2021-11-24</td>\n",
              "      <td>560</td>\n",
              "      <td>50</td>\n",
              "      <td>91.80</td>\n",
              "    </tr>\n",
              "    <tr>\n",
              "      <th>1</th>\n",
              "      <td>2021-11-27</td>\n",
              "      <td>530</td>\n",
              "      <td>60</td>\n",
              "      <td>89.83</td>\n",
              "    </tr>\n",
              "    <tr>\n",
              "      <th>2</th>\n",
              "      <td>2021-12-01</td>\n",
              "      <td>436</td>\n",
              "      <td>70</td>\n",
              "      <td>86.17</td>\n",
              "    </tr>\n",
              "    <tr>\n",
              "      <th>3</th>\n",
              "      <td>2021-12-03</td>\n",
              "      <td>576</td>\n",
              "      <td>59</td>\n",
              "      <td>90.71</td>\n",
              "    </tr>\n",
              "    <tr>\n",
              "      <th>4</th>\n",
              "      <td>2021-12-05</td>\n",
              "      <td>388</td>\n",
              "      <td>30</td>\n",
              "      <td>92.82</td>\n",
              "    </tr>\n",
              "    <tr>\n",
              "      <th>5</th>\n",
              "      <td>2021-12-08</td>\n",
              "      <td>580</td>\n",
              "      <td>64</td>\n",
              "      <td>90.06</td>\n",
              "    </tr>\n",
              "    <tr>\n",
              "      <th>6</th>\n",
              "      <td>2021-12-10</td>\n",
              "      <td>1132</td>\n",
              "      <td>318</td>\n",
              "      <td>78.07</td>\n",
              "    </tr>\n",
              "    <tr>\n",
              "      <th>7</th>\n",
              "      <td>2021-12-12</td>\n",
              "      <td>433</td>\n",
              "      <td>53</td>\n",
              "      <td>89.09</td>\n",
              "    </tr>\n",
              "    <tr>\n",
              "      <th>8</th>\n",
              "      <td>2021-12-15</td>\n",
              "      <td>584</td>\n",
              "      <td>34</td>\n",
              "      <td>94.50</td>\n",
              "    </tr>\n",
              "    <tr>\n",
              "      <th>9</th>\n",
              "      <td>2021-12-28</td>\n",
              "      <td>508</td>\n",
              "      <td>98</td>\n",
              "      <td>83.83</td>\n",
              "    </tr>\n",
              "    <tr>\n",
              "      <th>10</th>\n",
              "      <td>2021-12-30</td>\n",
              "      <td>584</td>\n",
              "      <td>68</td>\n",
              "      <td>89.57</td>\n",
              "    </tr>\n",
              "    <tr>\n",
              "      <th>11</th>\n",
              "      <td>2021-12-31</td>\n",
              "      <td>560</td>\n",
              "      <td>47</td>\n",
              "      <td>92.26</td>\n",
              "    </tr>\n",
              "    <tr>\n",
              "      <th>12</th>\n",
              "      <td>2022-01-02</td>\n",
              "      <td>832</td>\n",
              "      <td>68</td>\n",
              "      <td>92.44</td>\n",
              "    </tr>\n",
              "    <tr>\n",
              "      <th>13</th>\n",
              "      <td>2022-01-05</td>\n",
              "      <td>582</td>\n",
              "      <td>90</td>\n",
              "      <td>86.61</td>\n",
              "    </tr>\n",
              "    <tr>\n",
              "      <th>14</th>\n",
              "      <td>2022-01-06</td>\n",
              "      <td>65</td>\n",
              "      <td>35</td>\n",
              "      <td>65.00</td>\n",
              "    </tr>\n",
              "    <tr>\n",
              "      <th>15</th>\n",
              "      <td>2022-01-07</td>\n",
              "      <td>508</td>\n",
              "      <td>44</td>\n",
              "      <td>92.03</td>\n",
              "    </tr>\n",
              "    <tr>\n",
              "      <th>16</th>\n",
              "      <td>2022-01-09</td>\n",
              "      <td>40</td>\n",
              "      <td>4</td>\n",
              "      <td>90.91</td>\n",
              "    </tr>\n",
              "  </tbody>\n",
              "</table>\n",
              "</div>\n",
              "      <button class=\"colab-df-convert\" onclick=\"convertToInteractive('df-653f2faa-178d-499e-9c34-da739b4124c1')\"\n",
              "              title=\"Convert this dataframe to an interactive table.\"\n",
              "              style=\"display:none;\">\n",
              "        \n",
              "  <svg xmlns=\"http://www.w3.org/2000/svg\" height=\"24px\"viewBox=\"0 0 24 24\"\n",
              "       width=\"24px\">\n",
              "    <path d=\"M0 0h24v24H0V0z\" fill=\"none\"/>\n",
              "    <path d=\"M18.56 5.44l.94 2.06.94-2.06 2.06-.94-2.06-.94-.94-2.06-.94 2.06-2.06.94zm-11 1L8.5 8.5l.94-2.06 2.06-.94-2.06-.94L8.5 2.5l-.94 2.06-2.06.94zm10 10l.94 2.06.94-2.06 2.06-.94-2.06-.94-.94-2.06-.94 2.06-2.06.94z\"/><path d=\"M17.41 7.96l-1.37-1.37c-.4-.4-.92-.59-1.43-.59-.52 0-1.04.2-1.43.59L10.3 9.45l-7.72 7.72c-.78.78-.78 2.05 0 2.83L4 21.41c.39.39.9.59 1.41.59.51 0 1.02-.2 1.41-.59l7.78-7.78 2.81-2.81c.8-.78.8-2.07 0-2.86zM5.41 20L4 18.59l7.72-7.72 1.47 1.35L5.41 20z\"/>\n",
              "  </svg>\n",
              "      </button>\n",
              "      \n",
              "  <style>\n",
              "    .colab-df-container {\n",
              "      display:flex;\n",
              "      flex-wrap:wrap;\n",
              "      gap: 12px;\n",
              "    }\n",
              "\n",
              "    .colab-df-convert {\n",
              "      background-color: #E8F0FE;\n",
              "      border: none;\n",
              "      border-radius: 50%;\n",
              "      cursor: pointer;\n",
              "      display: none;\n",
              "      fill: #1967D2;\n",
              "      height: 32px;\n",
              "      padding: 0 0 0 0;\n",
              "      width: 32px;\n",
              "    }\n",
              "\n",
              "    .colab-df-convert:hover {\n",
              "      background-color: #E2EBFA;\n",
              "      box-shadow: 0px 1px 2px rgba(60, 64, 67, 0.3), 0px 1px 3px 1px rgba(60, 64, 67, 0.15);\n",
              "      fill: #174EA6;\n",
              "    }\n",
              "\n",
              "    [theme=dark] .colab-df-convert {\n",
              "      background-color: #3B4455;\n",
              "      fill: #D2E3FC;\n",
              "    }\n",
              "\n",
              "    [theme=dark] .colab-df-convert:hover {\n",
              "      background-color: #434B5C;\n",
              "      box-shadow: 0px 1px 3px 1px rgba(0, 0, 0, 0.15);\n",
              "      filter: drop-shadow(0px 1px 2px rgba(0, 0, 0, 0.3));\n",
              "      fill: #FFFFFF;\n",
              "    }\n",
              "  </style>\n",
              "\n",
              "      <script>\n",
              "        const buttonEl =\n",
              "          document.querySelector('#df-653f2faa-178d-499e-9c34-da739b4124c1 button.colab-df-convert');\n",
              "        buttonEl.style.display =\n",
              "          google.colab.kernel.accessAllowed ? 'block' : 'none';\n",
              "\n",
              "        async function convertToInteractive(key) {\n",
              "          const element = document.querySelector('#df-653f2faa-178d-499e-9c34-da739b4124c1');\n",
              "          const dataTable =\n",
              "            await google.colab.kernel.invokeFunction('convertToInteractive',\n",
              "                                                     [key], {});\n",
              "          if (!dataTable) return;\n",
              "\n",
              "          const docLinkHtml = 'Like what you see? Visit the ' +\n",
              "            '<a target=\"_blank\" href=https://colab.research.google.com/notebooks/data_table.ipynb>data table notebook</a>'\n",
              "            + ' to learn more about interactive tables.';\n",
              "          element.innerHTML = '';\n",
              "          dataTable['output_type'] = 'display_data';\n",
              "          await google.colab.output.renderOutput(dataTable, element);\n",
              "          const docLink = document.createElement('div');\n",
              "          docLink.innerHTML = docLinkHtml;\n",
              "          element.appendChild(docLink);\n",
              "        }\n",
              "      </script>\n",
              "    </div>\n",
              "  </div>\n",
              "  "
            ],
            "text/plain": [
              "         Date    OK  Scrap  Performance\n",
              "0  2021-11-24   560     50        91.80\n",
              "1  2021-11-27   530     60        89.83\n",
              "2  2021-12-01   436     70        86.17\n",
              "3  2021-12-03   576     59        90.71\n",
              "4  2021-12-05   388     30        92.82\n",
              "5  2021-12-08   580     64        90.06\n",
              "6  2021-12-10  1132    318        78.07\n",
              "7  2021-12-12   433     53        89.09\n",
              "8  2021-12-15   584     34        94.50\n",
              "9  2021-12-28   508     98        83.83\n",
              "10 2021-12-30   584     68        89.57\n",
              "11 2021-12-31   560     47        92.26\n",
              "12 2022-01-02   832     68        92.44\n",
              "13 2022-01-05   582     90        86.61\n",
              "14 2022-01-06    65     35        65.00\n",
              "15 2022-01-07   508     44        92.03\n",
              "16 2022-01-09    40      4        90.91"
            ]
          },
          "metadata": {},
          "execution_count": 34
        }
      ]
    },
    {
      "cell_type": "code",
      "source": [
        "print('Média de performance antes = ', dados_antes.Performance.mean())"
      ],
      "metadata": {
        "colab": {
          "base_uri": "https://localhost:8080/"
        },
        "id": "3HKW4ePV69Ff",
        "outputId": "c6bbaea6-7d97-4927-b055-d34000dfad27"
      },
      "execution_count": null,
      "outputs": [
        {
          "output_type": "stream",
          "name": "stdout",
          "text": [
            "Média de performance antes =  87.98235294117647\n"
          ]
        }
      ]
    },
    {
      "cell_type": "markdown",
      "source": [
        "###Depois da modificação"
      ],
      "metadata": {
        "id": "r8iC8Hw1M_Ub"
      }
    },
    {
      "cell_type": "code",
      "source": [
        "depois = (dados['Date'] > '2022-01-09')\n",
        "dados_depois = dados.loc[depois]\n",
        "dados_depois"
      ],
      "metadata": {
        "colab": {
          "base_uri": "https://localhost:8080/",
          "height": 426
        },
        "id": "QGEDlhi8F28W",
        "outputId": "a218d331-2a71-4438-a3ee-fadcb54673fd"
      },
      "execution_count": null,
      "outputs": [
        {
          "output_type": "execute_result",
          "data": {
            "text/html": [
              "\n",
              "  <div id=\"df-218d4632-b6df-4add-9b6a-7a9457520719\">\n",
              "    <div class=\"colab-df-container\">\n",
              "      <div>\n",
              "<style scoped>\n",
              "    .dataframe tbody tr th:only-of-type {\n",
              "        vertical-align: middle;\n",
              "    }\n",
              "\n",
              "    .dataframe tbody tr th {\n",
              "        vertical-align: top;\n",
              "    }\n",
              "\n",
              "    .dataframe thead th {\n",
              "        text-align: right;\n",
              "    }\n",
              "</style>\n",
              "<table border=\"1\" class=\"dataframe\">\n",
              "  <thead>\n",
              "    <tr style=\"text-align: right;\">\n",
              "      <th></th>\n",
              "      <th>Date</th>\n",
              "      <th>OK</th>\n",
              "      <th>Scrap</th>\n",
              "      <th>Performance</th>\n",
              "    </tr>\n",
              "  </thead>\n",
              "  <tbody>\n",
              "    <tr>\n",
              "      <th>17</th>\n",
              "      <td>2022-01-12</td>\n",
              "      <td>626</td>\n",
              "      <td>32</td>\n",
              "      <td>95.14</td>\n",
              "    </tr>\n",
              "    <tr>\n",
              "      <th>18</th>\n",
              "      <td>2022-01-14</td>\n",
              "      <td>389</td>\n",
              "      <td>7</td>\n",
              "      <td>98.23</td>\n",
              "    </tr>\n",
              "    <tr>\n",
              "      <th>19</th>\n",
              "      <td>2022-01-15</td>\n",
              "      <td>686</td>\n",
              "      <td>28</td>\n",
              "      <td>96.08</td>\n",
              "    </tr>\n",
              "    <tr>\n",
              "      <th>20</th>\n",
              "      <td>2022-01-19</td>\n",
              "      <td>654</td>\n",
              "      <td>30</td>\n",
              "      <td>95.61</td>\n",
              "    </tr>\n",
              "    <tr>\n",
              "      <th>21</th>\n",
              "      <td>2022-01-21</td>\n",
              "      <td>294</td>\n",
              "      <td>20</td>\n",
              "      <td>93.63</td>\n",
              "    </tr>\n",
              "    <tr>\n",
              "      <th>22</th>\n",
              "      <td>2022-01-23</td>\n",
              "      <td>630</td>\n",
              "      <td>22</td>\n",
              "      <td>96.63</td>\n",
              "    </tr>\n",
              "    <tr>\n",
              "      <th>23</th>\n",
              "      <td>2022-01-27</td>\n",
              "      <td>642</td>\n",
              "      <td>44</td>\n",
              "      <td>93.59</td>\n",
              "    </tr>\n",
              "    <tr>\n",
              "      <th>24</th>\n",
              "      <td>2022-01-29</td>\n",
              "      <td>736</td>\n",
              "      <td>23</td>\n",
              "      <td>96.97</td>\n",
              "    </tr>\n",
              "    <tr>\n",
              "      <th>25</th>\n",
              "      <td>2022-02-02</td>\n",
              "      <td>718</td>\n",
              "      <td>28</td>\n",
              "      <td>96.25</td>\n",
              "    </tr>\n",
              "    <tr>\n",
              "      <th>26</th>\n",
              "      <td>2022-02-03</td>\n",
              "      <td>742</td>\n",
              "      <td>31</td>\n",
              "      <td>95.99</td>\n",
              "    </tr>\n",
              "    <tr>\n",
              "      <th>27</th>\n",
              "      <td>2022-02-05</td>\n",
              "      <td>584</td>\n",
              "      <td>10</td>\n",
              "      <td>98.32</td>\n",
              "    </tr>\n",
              "    <tr>\n",
              "      <th>28</th>\n",
              "      <td>2022-02-11</td>\n",
              "      <td>88</td>\n",
              "      <td>40</td>\n",
              "      <td>68.75</td>\n",
              "    </tr>\n",
              "  </tbody>\n",
              "</table>\n",
              "</div>\n",
              "      <button class=\"colab-df-convert\" onclick=\"convertToInteractive('df-218d4632-b6df-4add-9b6a-7a9457520719')\"\n",
              "              title=\"Convert this dataframe to an interactive table.\"\n",
              "              style=\"display:none;\">\n",
              "        \n",
              "  <svg xmlns=\"http://www.w3.org/2000/svg\" height=\"24px\"viewBox=\"0 0 24 24\"\n",
              "       width=\"24px\">\n",
              "    <path d=\"M0 0h24v24H0V0z\" fill=\"none\"/>\n",
              "    <path d=\"M18.56 5.44l.94 2.06.94-2.06 2.06-.94-2.06-.94-.94-2.06-.94 2.06-2.06.94zm-11 1L8.5 8.5l.94-2.06 2.06-.94-2.06-.94L8.5 2.5l-.94 2.06-2.06.94zm10 10l.94 2.06.94-2.06 2.06-.94-2.06-.94-.94-2.06-.94 2.06-2.06.94z\"/><path d=\"M17.41 7.96l-1.37-1.37c-.4-.4-.92-.59-1.43-.59-.52 0-1.04.2-1.43.59L10.3 9.45l-7.72 7.72c-.78.78-.78 2.05 0 2.83L4 21.41c.39.39.9.59 1.41.59.51 0 1.02-.2 1.41-.59l7.78-7.78 2.81-2.81c.8-.78.8-2.07 0-2.86zM5.41 20L4 18.59l7.72-7.72 1.47 1.35L5.41 20z\"/>\n",
              "  </svg>\n",
              "      </button>\n",
              "      \n",
              "  <style>\n",
              "    .colab-df-container {\n",
              "      display:flex;\n",
              "      flex-wrap:wrap;\n",
              "      gap: 12px;\n",
              "    }\n",
              "\n",
              "    .colab-df-convert {\n",
              "      background-color: #E8F0FE;\n",
              "      border: none;\n",
              "      border-radius: 50%;\n",
              "      cursor: pointer;\n",
              "      display: none;\n",
              "      fill: #1967D2;\n",
              "      height: 32px;\n",
              "      padding: 0 0 0 0;\n",
              "      width: 32px;\n",
              "    }\n",
              "\n",
              "    .colab-df-convert:hover {\n",
              "      background-color: #E2EBFA;\n",
              "      box-shadow: 0px 1px 2px rgba(60, 64, 67, 0.3), 0px 1px 3px 1px rgba(60, 64, 67, 0.15);\n",
              "      fill: #174EA6;\n",
              "    }\n",
              "\n",
              "    [theme=dark] .colab-df-convert {\n",
              "      background-color: #3B4455;\n",
              "      fill: #D2E3FC;\n",
              "    }\n",
              "\n",
              "    [theme=dark] .colab-df-convert:hover {\n",
              "      background-color: #434B5C;\n",
              "      box-shadow: 0px 1px 3px 1px rgba(0, 0, 0, 0.15);\n",
              "      filter: drop-shadow(0px 1px 2px rgba(0, 0, 0, 0.3));\n",
              "      fill: #FFFFFF;\n",
              "    }\n",
              "  </style>\n",
              "\n",
              "      <script>\n",
              "        const buttonEl =\n",
              "          document.querySelector('#df-218d4632-b6df-4add-9b6a-7a9457520719 button.colab-df-convert');\n",
              "        buttonEl.style.display =\n",
              "          google.colab.kernel.accessAllowed ? 'block' : 'none';\n",
              "\n",
              "        async function convertToInteractive(key) {\n",
              "          const element = document.querySelector('#df-218d4632-b6df-4add-9b6a-7a9457520719');\n",
              "          const dataTable =\n",
              "            await google.colab.kernel.invokeFunction('convertToInteractive',\n",
              "                                                     [key], {});\n",
              "          if (!dataTable) return;\n",
              "\n",
              "          const docLinkHtml = 'Like what you see? Visit the ' +\n",
              "            '<a target=\"_blank\" href=https://colab.research.google.com/notebooks/data_table.ipynb>data table notebook</a>'\n",
              "            + ' to learn more about interactive tables.';\n",
              "          element.innerHTML = '';\n",
              "          dataTable['output_type'] = 'display_data';\n",
              "          await google.colab.output.renderOutput(dataTable, element);\n",
              "          const docLink = document.createElement('div');\n",
              "          docLink.innerHTML = docLinkHtml;\n",
              "          element.appendChild(docLink);\n",
              "        }\n",
              "      </script>\n",
              "    </div>\n",
              "  </div>\n",
              "  "
            ],
            "text/plain": [
              "         Date   OK  Scrap  Performance\n",
              "17 2022-01-12  626     32        95.14\n",
              "18 2022-01-14  389      7        98.23\n",
              "19 2022-01-15  686     28        96.08\n",
              "20 2022-01-19  654     30        95.61\n",
              "21 2022-01-21  294     20        93.63\n",
              "22 2022-01-23  630     22        96.63\n",
              "23 2022-01-27  642     44        93.59\n",
              "24 2022-01-29  736     23        96.97\n",
              "25 2022-02-02  718     28        96.25\n",
              "26 2022-02-03  742     31        95.99\n",
              "27 2022-02-05  584     10        98.32\n",
              "28 2022-02-11   88     40        68.75"
            ]
          },
          "metadata": {},
          "execution_count": 36
        }
      ]
    },
    {
      "cell_type": "code",
      "source": [
        "print('Média de performance depois = ', dados_depois.Performance.mean())"
      ],
      "metadata": {
        "colab": {
          "base_uri": "https://localhost:8080/"
        },
        "id": "X36YRTNG6_w5",
        "outputId": "55910a4f-f80b-4bf0-a29a-852e9bea5c8c"
      },
      "execution_count": null,
      "outputs": [
        {
          "output_type": "stream",
          "name": "stdout",
          "text": [
            "Média de performance depois =  93.76583333333333\n"
          ]
        }
      ]
    },
    {
      "cell_type": "markdown",
      "source": [
        "##Graficamente"
      ],
      "metadata": {
        "id": "G-8kXNufNBez"
      }
    },
    {
      "cell_type": "code",
      "source": [
        "plt.figure(figsize=(12,4))\n",
        "_,_ = sns.boxplot(data = [dados_antes.Performance, dados_depois.Performance], orient='h', width=0.8).set(yticklabels=['Antes','Depois'], xlabel='Performance (% de peças boas)')"
      ],
      "metadata": {
        "colab": {
          "base_uri": "https://localhost:8080/",
          "height": 279
        },
        "id": "7AVYDxcqLJFU",
        "outputId": "e1235d4c-0062-4d90-abff-c94b5061e9fc"
      },
      "execution_count": null,
      "outputs": [
        {
          "output_type": "display_data",
          "data": {
            "image/png": "[encoded data removed]",
            "text/plain": [
              "<Figure size 864x288 with 1 Axes>"
            ]
          },
          "metadata": {
            "needs_background": "light"
          }
        }
      ]
    },
    {
      "cell_type": "markdown",
      "source": [
        "Graficamente podemos observar que além de existir uma performance mais alta após a implementação da melhoria, notamos que houve uma menor variação nos dados. Entretanto, houve uma melhora estatísticamente comprovada ? É o que vamos analisar no próximo tópico."
      ],
      "metadata": {
        "id": "6D0sSYRn7FNM"
      }
    },
    {
      "cell_type": "markdown",
      "source": [
        "##Teste de hipótese"
      ],
      "metadata": {
        "id": "5KqAM14HNDkz"
      }
    },
    {
      "cell_type": "markdown",
      "source": [
        "Vamos testar a hipótese que após a implementação da melhoria houve uma melhora na porcentagem de peças boas. Vamos considerar um intervalo de confiança de 95%\n",
        "\n",
        "\n",
        "### $H_0: \\mu_{antes} = \\mu_{depois}$\n",
        "\n",
        "### $H_1: \\mu_{antes} > \\mu_{depois}$\n",
        "\n",
        "![img002.png](data:image/png;base64,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)"
      ],
      "metadata": {
        "id": "IkFb6X70jBIE"
      }
    },
    {
      "cell_type": "markdown",
      "source": [
        "Para escolhermos o tipo de teste estatístico que vamos aplicar, primeiramente é necessário verificar a normalidade dos dados."
      ],
      "metadata": {
        "id": "3gzzRp8YBDaX"
      }
    },
    {
      "cell_type": "markdown",
      "source": [
        "###Normalidade dos dados"
      ],
      "metadata": {
        "id": "DeOiRAFH2JOg"
      }
    },
    {
      "cell_type": "code",
      "source": [
        "sns.displot(dados.Performance, kde=True)"
      ],
      "metadata": {
        "colab": {
          "base_uri": "https://localhost:8080/",
          "height": 386
        },
        "id": "9rgJ3EcJ2Iqw",
        "outputId": "08a86871-ae16-4a3f-a813-345c5c4ff631"
      },
      "execution_count": null,
      "outputs": [
        {
          "output_type": "execute_result",
          "data": {
            "text/plain": [
              "<seaborn.axisgrid.FacetGrid at 0x7f02936f8490>"
            ]
          },
          "metadata": {},
          "execution_count": 39
        },
        {
          "output_type": "display_data",
          "data": {
            "image/png": "[encoded data removed]",
            "text/plain": [
              "<Figure size 360x360 with 1 Axes>"
            ]
          },
          "metadata": {
            "needs_background": "light"
          }
        }
      ]
    },
    {
      "cell_type": "markdown",
      "source": [
        "Fica evidente que nossos dados não se distribuem normalmente. Assim vamos utilizar o teste de **Wilcoxon** para avaliar os dados, esse teste é empregado quando se deseja comparar duas amostras relacionadas, principamente quando queremos testar a diferença de duas condições do mesmo elemento."
      ],
      "metadata": {
        "id": "V5HLRu-jjlb0"
      }
    },
    {
      "cell_type": "markdown",
      "source": [
        "###Significância"
      ],
      "metadata": {
        "id": "HfQxXnKhNKxN"
      }
    },
    {
      "cell_type": "code",
      "source": [
        "alpha = 0.05"
      ],
      "metadata": {
        "id": "lPQzfwwVGmi2"
      },
      "execution_count": null,
      "outputs": []
    },
    {
      "cell_type": "markdown",
      "source": [
        "###Wilcoxon"
      ],
      "metadata": {
        "id": "gnXCSBlvNHZT"
      }
    },
    {
      "cell_type": "code",
      "source": [
        "T, p_valor = wilcoxon(dados_antes.Performance.tail(12), dados_depois.Performance, alternative='less')\n",
        "print('T = ', T)\n",
        "print('Pvalue = ',p_valor)"
      ],
      "metadata": {
        "colab": {
          "base_uri": "https://localhost:8080/"
        },
        "id": "HKA3hemwF-XV",
        "outputId": "174f7523-7d2e-4bd6-f298-d231c7d8f027"
      },
      "execution_count": null,
      "outputs": [
        {
          "output_type": "stream",
          "name": "stdout",
          "text": [
            "T =  11.0\n",
            "Pvalue =  0.0140280620746218\n"
          ]
        }
      ]
    },
    {
      "cell_type": "markdown",
      "source": [
        "####Rejeitar $H_0$ se o valor $p\\leq\\alpha$"
      ],
      "metadata": {
        "id": "3rMD465WNOO8"
      }
    },
    {
      "cell_type": "code",
      "source": [
        "if (p_valor <= alpha):\n",
        "  print('Rejeitar H0')\n",
        "else:\n",
        "  print('Aceitar H0')"
      ],
      "metadata": {
        "colab": {
          "base_uri": "https://localhost:8080/"
        },
        "id": "5zflIFrZGlEQ",
        "outputId": "1a1f0640-6d1a-4fde-c482-c54307a87aab"
      },
      "execution_count": null,
      "outputs": [
        {
          "output_type": "stream",
          "name": "stdout",
          "text": [
            "Rejeitar H0\n"
          ]
        }
      ]
    },
    {
      "cell_type": "markdown",
      "source": [
        "##Conclusão"
      ],
      "metadata": {
        "id": "Zu9rQr2NNRBW"
      }
    },
    {
      "cell_type": "markdown",
      "source": [
        "Como nosso P_valor é menor que a significancia do teste, nós rejeitamos a hipótese nula que os dados antes da implementação da melhoria são iguais aos dados depois. Assim ficamos com a hipótese alternativa de que houve uma melhora na performance do produto."
      ],
      "metadata": {
        "id": "IA5dO-N2NSi1"
      }
    }
  ]
}